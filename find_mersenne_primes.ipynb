{
 "cells": [
  {
   "cell_type": "code",
   "execution_count": 1,
   "metadata": {},
   "outputs": [],
   "source": [
    "import random\n",
    "import math\n",
    "import time"
   ]
  },
  {
   "cell_type": "code",
   "execution_count": 2,
   "metadata": {},
   "outputs": [
    {
     "data": {
      "text/plain": [
       "5761455"
      ]
     },
     "execution_count": 2,
     "metadata": {},
     "output_type": "execute_result"
    }
   ],
   "source": [
    "prime_list = []\n",
    "\n",
    "with open('primes_100mi.txt', 'r') as file:\n",
    "    for line in file:\n",
    "        number = int(line)\n",
    "        prime_list.append(number)\n",
    "\n",
    "len(prime_list)"
   ]
  },
  {
   "cell_type": "code",
   "execution_count": 3,
   "metadata": {},
   "outputs": [],
   "source": [
    "def Miller_Rabin_primality_test(n, k):\n",
    "    if n <= 1:\n",
    "        return False\n",
    "    if n == 2 or n == 3:\n",
    "        return True\n",
    "    if n % 2 == 0:\n",
    "        return False\n",
    "\n",
    "    # Factor out powers of 2 from n - 1\n",
    "    s, d = 0, n - 1\n",
    "    while d % 2 == 0:\n",
    "        s += 1\n",
    "        d //= 2\n",
    "\n",
    "    # Repeat the test k times\n",
    "    for _ in range(k):\n",
    "        a = random.randint(2, n - 2)\n",
    "        x = pow(a, d, n)\n",
    "\n",
    "        # Repeat s times\n",
    "        for _ in range(s):\n",
    "            y = pow(x, 2, n)\n",
    "            if y == 1 and x != 1 and x != n - 1:\n",
    "                return False  # Composite\n",
    "            x = y\n",
    "\n",
    "        if x != 1:\n",
    "            return False  # Composite\n",
    "\n",
    "    return True  # Probably prime"
   ]
  },
  {
   "cell_type": "code",
   "execution_count": 4,
   "metadata": {},
   "outputs": [],
   "source": [
    "def test_with_list_of_primes(primes, n):\n",
    "    len_primes = len(primes)\n",
    "    i=0\n",
    "    while (i < len_primes and primes[i]**2<=n):\n",
    "        \n",
    "        if (n%primes[i] == 0):\n",
    "            return False\n",
    "        i+=1\n",
    "        \n",
    "    return True"
   ]
  },
  {
   "cell_type": "code",
   "execution_count": 5,
   "metadata": {},
   "outputs": [],
   "source": [
    "def M(n):\n",
    "    return 2**n - 1"
   ]
  },
  {
   "cell_type": "code",
   "execution_count": 6,
   "metadata": {},
   "outputs": [],
   "source": [
    "MIN = 1\n",
    "MAX = 200\n",
    "some_primes = prime_list[:10000]\n",
    "mersenne_numbers = []\n",
    "\n",
    "while MIN <= MAX:\n",
    "    if MIN in some_primes:\n",
    "        mersenne_numbers.append((MIN, M(MIN)))\n",
    "    MIN+=2"
   ]
  },
  {
   "cell_type": "code",
   "execution_count": 7,
   "metadata": {},
   "outputs": [
    {
     "name": "stdout",
     "output_type": "stream",
     "text": [
      "M_3 = 7\n",
      "M_5 = 31\n",
      "M_7 = 127\n",
      "M_13 = 8191\n",
      "M_17 = 131071\n",
      "M_19 = 524287\n",
      "M_31 = 2147483647\n",
      "M_61 = 2305843009213693951\n",
      "M_89 = 618970019642690137449562111\n",
      "M_107 = 162259276829213363391578010288127\n",
      "M_127 = 170141183460469231731687303715884105727\n"
     ]
    }
   ],
   "source": [
    "miller_test_k_1 = []\n",
    "k = 1\n",
    "\n",
    "for mn in mersenne_numbers:\n",
    "    if Miller_Rabin_primality_test(mn[1], k):\n",
    "        miller_test_k_1.append(mn[1])\n",
    "        print(f\"M_{mn[0]} = {mn[1]}\")"
   ]
  },
  {
   "cell_type": "markdown",
   "metadata": {},
   "source": [
    "Check with $k=1000$"
   ]
  },
  {
   "cell_type": "code",
   "execution_count": 8,
   "metadata": {},
   "outputs": [],
   "source": [
    "miller_test_k_1000 = []\n",
    "k = 1000\n",
    "\n",
    "for mn in miller_test_k_1:\n",
    "    if Miller_Rabin_primality_test(mn, k):\n",
    "        miller_test_k_1000.append(mn)"
   ]
  },
  {
   "cell_type": "code",
   "execution_count": 9,
   "metadata": {},
   "outputs": [
    {
     "data": {
      "text/plain": [
       "[7,\n",
       " 31,\n",
       " 127,\n",
       " 8191,\n",
       " 131071,\n",
       " 524287,\n",
       " 2147483647,\n",
       " 2305843009213693951,\n",
       " 618970019642690137449562111,\n",
       " 162259276829213363391578010288127,\n",
       " 170141183460469231731687303715884105727]"
      ]
     },
     "execution_count": 9,
     "metadata": {},
     "output_type": "execute_result"
    }
   ],
   "source": [
    "miller_test_k_1000"
   ]
  },
  {
   "cell_type": "markdown",
   "metadata": {},
   "source": [
    "Test with a large number of primes"
   ]
  },
  {
   "cell_type": "code",
   "execution_count": 10,
   "metadata": {},
   "outputs": [
    {
     "name": "stdout",
     "output_type": "stream",
     "text": [
      "almost certain that 7 is a prime\n",
      "almost certain that 31 is a prime\n",
      "almost certain that 127 is a prime\n",
      "almost certain that 8191 is a prime\n",
      "almost certain that 131071 is a prime\n",
      "almost certain that 524287 is a prime\n",
      "almost certain that 2147483647 is a prime\n",
      "almost certain that 2305843009213693951 is a prime\n",
      "almost certain that 618970019642690137449562111 is a prime\n",
      "almost certain that 162259276829213363391578010288127 is a prime\n",
      "almost certain that 170141183460469231731687303715884105727 is a prime\n"
     ]
    }
   ],
   "source": [
    "for mp in miller_test_k_1000:\n",
    "    if test_with_list_of_primes(prime_list, mp):\n",
    "        print(f\"almost certain that {mp} is a prime\")"
   ]
  }
 ],
 "metadata": {
  "kernelspec": {
   "display_name": "Python 3",
   "language": "python",
   "name": "python3"
  },
  "language_info": {
   "codemirror_mode": {
    "name": "ipython",
    "version": 3
   },
   "file_extension": ".py",
   "mimetype": "text/x-python",
   "name": "python",
   "nbconvert_exporter": "python",
   "pygments_lexer": "ipython3",
   "version": "3.11.6"
  }
 },
 "nbformat": 4,
 "nbformat_minor": 2
}
