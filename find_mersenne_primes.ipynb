{
 "cells": [
  {
   "cell_type": "code",
   "execution_count": null,
   "metadata": {},
   "outputs": [],
   "source": [
    "################################# ORGANIZE THIS CODE #################################"
   ]
  },
  {
   "cell_type": "code",
   "execution_count": null,
   "metadata": {},
   "outputs": [],
   "source": [
    "primes = []\n",
    "\n",
    "t0 = time.time()\n",
    "k = 1\n",
    "i = 2**1000-1\n",
    "while len(primes) < 100:\n",
    "    result = is_probably_prime(i, k)\n",
    "    if result:\n",
    "        primes += [i]\n",
    "    i += 2\n",
    "\n",
    "print(f\"time: {time.time() - t0} | num of primes: {len(primes)}\")"
   ]
  },
  {
   "cell_type": "code",
   "execution_count": null,
   "metadata": {},
   "outputs": [],
   "source": [
    "primes[0]"
   ]
  },
  {
   "cell_type": "code",
   "execution_count": null,
   "metadata": {},
   "outputs": [],
   "source": [
    "new_primes = []\n",
    "\n",
    "t0 = time.time()\n",
    "k = 1000\n",
    "for i in primes:\n",
    "    result = is_probably_prime(i, k)\n",
    "    if result:\n",
    "        new_primes += [i]\n",
    "print(f\"time: {time.time() - t0} | num of primes: {len(new_primes)}\")"
   ]
  },
  {
   "cell_type": "code",
   "execution_count": null,
   "metadata": {},
   "outputs": [],
   "source": [
    "new_primes[0]"
   ]
  }
 ],
 "metadata": {
  "language_info": {
   "name": "python"
  }
 },
 "nbformat": 4,
 "nbformat_minor": 2
}
