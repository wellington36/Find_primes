{
 "cells": [
  {
   "cell_type": "code",
   "execution_count": null,
   "metadata": {},
   "outputs": [],
   "source": [
    "!python -m venv ./venv\n",
    "!venv/bin/python -m pip install --upgrade pip"
   ]
  },
  {
   "cell_type": "code",
   "execution_count": null,
   "metadata": {},
   "outputs": [],
   "source": [
    "!venv/bin/pip install mpmath"
   ]
  },
  {
   "cell_type": "code",
   "execution_count": null,
   "metadata": {},
   "outputs": [],
   "source": [
    "from mpmath import *\n",
    "import random\n",
    "import time"
   ]
  },
  {
   "cell_type": "code",
   "execution_count": null,
   "metadata": {},
   "outputs": [],
   "source": [
    "def is_probably_prime(n, k):\n",
    "    if n <= 1:\n",
    "        return False\n",
    "    if n == 2 or n == 3:\n",
    "        return True\n",
    "    if n % 2 == 0:\n",
    "        return False\n",
    "\n",
    "    # Factor out powers of 2 from n - 1\n",
    "    s, d = 0, n - 1\n",
    "    while d % 2 == 0:\n",
    "        s += 1\n",
    "        d //= 2\n",
    "\n",
    "    # Repeat the test k times\n",
    "    for _ in range(k):\n",
    "        a = random.randint(2, n - 2)\n",
    "        x = pow(a, d, n)\n",
    "\n",
    "        # Repeat s times\n",
    "        for _ in range(s):\n",
    "            y = pow(x, 2, n)\n",
    "            if y == 1 and x != 1 and x != n - 1:\n",
    "                return False  # Composite\n",
    "            x = y\n",
    "\n",
    "        if x != 1:\n",
    "            return False  # Composite\n",
    "\n",
    "    return True  # Probably prime"
   ]
  },
  {
   "cell_type": "code",
   "execution_count": null,
   "metadata": {},
   "outputs": [],
   "source": [
    "primes = []\n",
    "\n",
    "t0 = time.time()\n",
    "k = 1\n",
    "i = 2**10000-1\n",
    "while len(primes) < 100:\n",
    "    result = is_probably_prime(i, k)\n",
    "    if result:\n",
    "        primes += [i]\n",
    "    i += 2\n",
    "\n",
    "print(f\"time: {time.time() - t0} | num of primes: {len(primes)}\")"
   ]
  },
  {
   "cell_type": "code",
   "execution_count": null,
   "metadata": {},
   "outputs": [],
   "source": [
    "new_primes = []\n",
    "\n",
    "t0 = time.time()\n",
    "k = 1000\n",
    "for i in primes:\n",
    "    result = is_probably_prime(i, k)\n",
    "    if result:\n",
    "        new_primes += [i]\n",
    "print(f\"time: {time.time() - t0} | num of primes: {len(new_primes)}\")"
   ]
  },
  {
   "cell_type": "code",
   "execution_count": null,
   "metadata": {},
   "outputs": [],
   "source": [
    "primes[0]"
   ]
  },
  {
   "cell_type": "code",
   "execution_count": null,
   "metadata": {},
   "outputs": [],
   "source": [
    "!rm -r -f venv"
   ]
  }
 ],
 "metadata": {
  "kernelspec": {
   "display_name": "Python 3",
   "language": "python",
   "name": "python3"
  },
  "language_info": {
   "codemirror_mode": {
    "name": "ipython",
    "version": 3
   },
   "file_extension": ".py",
   "mimetype": "text/x-python",
   "name": "python",
   "nbconvert_exporter": "python",
   "pygments_lexer": "ipython3",
   "version": "3.11.5"
  },
  "orig_nbformat": 4
 },
 "nbformat": 4,
 "nbformat_minor": 2
}
